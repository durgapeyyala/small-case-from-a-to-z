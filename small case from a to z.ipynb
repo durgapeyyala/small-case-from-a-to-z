{
 "cells": [
  {
   "cell_type": "code",
   "execution_count": 1,
   "id": "53f8bcc5",
   "metadata": {},
   "outputs": [
    {
     "name": "stdout",
     "output_type": "stream",
     "text": [
      "  *  *        \n",
      "*      *       \n",
      "*      *       \n",
      "*      *       \n",
      "  *   *  *    \n",
      "            *\n"
     ]
    }
   ],
   "source": [
    "a=1\n",
    "while a<=6:\n",
    "    if a==1:\n",
    "        print(\"  *  *        \")\n",
    "    elif a==2:\n",
    "        print(\"*      *       \")\n",
    "    elif a==3:\n",
    "        print(\"*      *       \")\n",
    "    elif a==4:\n",
    "        print(\"*      *       \")\n",
    "    elif a==5:\n",
    "        print(\"  *   *  *    \")\n",
    "    elif a==6:\n",
    "        print(\"            *\")\n",
    "    a=a+1"
   ]
  },
  {
   "cell_type": "code",
   "execution_count": 2,
   "id": "3b93b3c0",
   "metadata": {},
   "outputs": [
    {
     "name": "stdout",
     "output_type": "stream",
     "text": [
      "*        \n",
      "*        \n",
      "* * *    \n",
      "*    * \n",
      "* * *    \n"
     ]
    }
   ],
   "source": [
    "a=1\n",
    "while a<=5:\n",
    "    if a==1:\n",
    "        print(\"*        \")\n",
    "    elif a==2:\n",
    "        print(\"*        \")\n",
    "    elif a==3:\n",
    "        print(\"* * *    \")\n",
    "    elif a==4:\n",
    "        print(\"*    * \")\n",
    "    elif a==5:\n",
    "        print(\"* * *    \")\n",
    "    a=a+1"
   ]
  },
  {
   "cell_type": "code",
   "execution_count": 3,
   "id": "c9a87726",
   "metadata": {},
   "outputs": [
    {
     "name": "stdout",
     "output_type": "stream",
     "text": [
      "      *  *\n",
      "   *     \n",
      "*        \n",
      "*        \n",
      "*        \n",
      "   *     \n",
      "      *  *\n"
     ]
    }
   ],
   "source": [
    "a=1\n",
    "while a<=7:\n",
    "    if a==1:\n",
    "        print(\"      *  *\")\n",
    "    elif a==2:\n",
    "        print(\"   *     \")\n",
    "    elif a==3:\n",
    "        print(\"*        \")\n",
    "    elif a==4:\n",
    "        print(\"*        \")\n",
    "    elif a==5:\n",
    "        print(\"*        \")\n",
    "    elif a==6:\n",
    "        print(\"   *     \")\n",
    "    elif a==7:\n",
    "        print(\"      *  *\")\n",
    "    a=a+1"
   ]
  },
  {
   "cell_type": "code",
   "execution_count": 4,
   "id": "9a935350",
   "metadata": {},
   "outputs": [
    {
     "name": "stdout",
     "output_type": "stream",
     "text": [
      "        *\n",
      "        *\n",
      " * * *  * \n",
      "*       *\n",
      " * * * *\n"
     ]
    }
   ],
   "source": [
    "a=1\n",
    "while a<=5:\n",
    "    if a==1:\n",
    "        print(\"        *\")\n",
    "    elif a==2:\n",
    "        print(\"        *\")\n",
    "    elif a==3:\n",
    "        print(\" * * *  * \")\n",
    "    elif a==4:\n",
    "        print(\"*       *\")\n",
    "    elif a==5:\n",
    "        print(\" * * * *\")\n",
    "    a=a+1"
   ]
  },
  {
   "cell_type": "code",
   "execution_count": 5,
   "id": "d3b55b7f",
   "metadata": {},
   "outputs": [
    {
     "name": "stdout",
     "output_type": "stream",
     "text": [
      "  * * * \n",
      "*      * \n",
      "* * * * \n",
      "*       \n",
      "  * * * \n"
     ]
    }
   ],
   "source": [
    "a=1\n",
    "while a<=5:\n",
    "    if a==1:\n",
    "        print(\"  * * * \")\n",
    "    elif a==2:\n",
    "        print(\"*      * \")\n",
    "    elif a==3:\n",
    "        print(\"* * * * \")\n",
    "    elif a==4:\n",
    "        print(\"*       \")\n",
    "    elif a==5:\n",
    "        print(\"  * * * \")\n",
    "    a=a+1"
   ]
  },
  {
   "cell_type": "code",
   "execution_count": 6,
   "id": "d6ca2f7a",
   "metadata": {},
   "outputs": [
    {
     "name": "stdout",
     "output_type": "stream",
     "text": [
      "    * * * \n",
      "  *       \n",
      "* * * * * \n",
      "  *       \n",
      "  *       \n"
     ]
    }
   ],
   "source": [
    "a=1\n",
    "while a<=5:\n",
    "    if a==1:\n",
    "        print(\"    * * * \")\n",
    "    elif a==2:\n",
    "        print(\"  *       \")\n",
    "    elif a==3:\n",
    "        print(\"* * * * * \")\n",
    "    elif a==4:\n",
    "        print(\"  *       \")\n",
    "    elif a==5:\n",
    "        print(\"  *       \")\n",
    "    a=a+1"
   ]
  },
  {
   "cell_type": "code",
   "execution_count": 7,
   "id": "2eb4cc27",
   "metadata": {},
   "outputs": [
    {
     "name": "stdout",
     "output_type": "stream",
     "text": [
      " * * * *\n",
      "*       *\n",
      "* * * * *\n",
      "        *\n",
      "* * * * *\n"
     ]
    }
   ],
   "source": [
    "a=1\n",
    "while a<=5:\n",
    "    if a==1:\n",
    "        print(\" * * * *\")\n",
    "    elif a==2:\n",
    "        print(\"*       *\")\n",
    "    elif a==3:\n",
    "        print(\"* * * * *\")\n",
    "    elif a==4:\n",
    "        print(\"        *\")\n",
    "    elif a==5:\n",
    "        print(\"* * * * *\")\n",
    "    a=a+1"
   ]
  },
  {
   "cell_type": "code",
   "execution_count": 8,
   "id": "5d563ccb",
   "metadata": {},
   "outputs": [
    {
     "name": "stdout",
     "output_type": "stream",
     "text": [
      "*        \n",
      "*        \n",
      "* * * * *\n",
      "*       *\n",
      "*       *\n"
     ]
    }
   ],
   "source": [
    "a=1\n",
    "while a<=5:\n",
    "    if a==1:\n",
    "        print(\"*        \")\n",
    "    elif a==2:\n",
    "        print(\"*        \")\n",
    "    elif a==3:\n",
    "        print(\"* * * * *\")\n",
    "    elif a==4:\n",
    "        print(\"*       *\")\n",
    "    elif a==5:\n",
    "        print(\"*       *\")\n",
    "    a=a+1"
   ]
  },
  {
   "cell_type": "code",
   "execution_count": 9,
   "id": "8374a0d7",
   "metadata": {},
   "outputs": [
    {
     "name": "stdout",
     "output_type": "stream",
     "text": [
      "    * *    \n",
      "   *   * \n",
      "    * *    \n",
      "     *    \n",
      "     *    \n",
      "     *    \n"
     ]
    }
   ],
   "source": [
    "a=1\n",
    "while a<=6:\n",
    "    if a==1:\n",
    "        print(\"    * *    \")\n",
    "    elif a==2:\n",
    "        print(\"   *   * \")\n",
    "    elif a==3:\n",
    "        print(\"    * *    \")\n",
    "    elif a==4:\n",
    "        print(\"     *    \")\n",
    "    elif a==5:\n",
    "        print(\"     *    \")\n",
    "    elif a==6:\n",
    "        print(\"     *    \")\n",
    "    a=a+1"
   ]
  },
  {
   "cell_type": "code",
   "execution_count": 10,
   "id": "2adb845e",
   "metadata": {},
   "outputs": [
    {
     "name": "stdout",
     "output_type": "stream",
     "text": [
      "     * *    \n",
      "    *   * \n",
      "     * *    \n",
      "      *    \n",
      " *    *    \n",
      "   *  *    \n"
     ]
    }
   ],
   "source": [
    "a=1\n",
    "while a<=6:\n",
    "    if a==1:\n",
    "        print(\"     * *    \")\n",
    "    elif a==2:\n",
    "        print(\"    *   * \")\n",
    "    elif a==3:\n",
    "        print(\"     * *    \")\n",
    "    elif a==4:\n",
    "        print(\"      *    \")\n",
    "    elif a==5:\n",
    "        print(\" *    *    \")\n",
    "    elif a==6:\n",
    "        print(\"   *  *    \")\n",
    "    a=a+1"
   ]
  },
  {
   "cell_type": "code",
   "execution_count": 11,
   "id": "e6388e8a",
   "metadata": {},
   "outputs": [
    {
     "name": "stdout",
     "output_type": "stream",
     "text": [
      "*      *\n",
      "*    *  \n",
      "* *     \n",
      "*    *  \n",
      "*      *\n"
     ]
    }
   ],
   "source": [
    "a=1\n",
    "while a<=5:\n",
    "    if a==1:\n",
    "        print(\"*      *\")\n",
    "    elif a==2:\n",
    "        print(\"*    *  \")\n",
    "    elif a==3:\n",
    "        print(\"* *     \")\n",
    "    elif a==4:\n",
    "        print(\"*    *  \")\n",
    "    elif a==5:\n",
    "        print(\"*      *\")\n",
    "    a=a+1"
   ]
  },
  {
   "cell_type": "code",
   "execution_count": 12,
   "id": "e8287445",
   "metadata": {},
   "outputs": [
    {
     "name": "stdout",
     "output_type": "stream",
     "text": [
      "       *          \n",
      "       *          \n",
      "       *          \n",
      "       *          \n",
      "       *          \n"
     ]
    }
   ],
   "source": [
    "a=1\n",
    "while a<=5:\n",
    "    if a==1:\n",
    "        print(\"       *          \")\n",
    "    elif a==2:\n",
    "        print(\"       *          \")\n",
    "    elif a==3:\n",
    "        print(\"       *          \")\n",
    "    elif a==4:\n",
    "        print(\"       *          \")\n",
    "    elif a==5:\n",
    "        print(\"       *          \")\n",
    "    a=a+1"
   ]
  },
  {
   "cell_type": "code",
   "execution_count": 13,
   "id": "4d7df013",
   "metadata": {},
   "outputs": [
    {
     "name": "stdout",
     "output_type": "stream",
     "text": [
      "   *          \n",
      "*   **  *   * \n",
      "*   *    *     *  \n",
      "    *    *     *\n",
      "    *    *     *  \n"
     ]
    }
   ],
   "source": [
    "a=1\n",
    "while a<=5:\n",
    "    if a==1:\n",
    "        print(\"   *          \")\n",
    "    elif a==2:\n",
    "        print(\"*   **  *   * \")\n",
    "    elif a==3:\n",
    "        print(\"*   *    *     *  \")\n",
    "    elif a==4:\n",
    "        print(\"    *    *     *\")\n",
    "    elif a==5:\n",
    "        print(\"    *    *     *  \")\n",
    "    a=a+1"
   ]
  },
  {
   "cell_type": "code",
   "execution_count": 14,
   "id": "d680f7f2",
   "metadata": {},
   "outputs": [
    {
     "name": "stdout",
     "output_type": "stream",
     "text": [
      "   *           \n",
      "*  *  * *      \n",
      "*   *    *     \n",
      "    *    *     \n",
      "    *    *     \n"
     ]
    }
   ],
   "source": [
    "a=1\n",
    "while a<=5:\n",
    "    if a==1:\n",
    "        print(\"   *           \")\n",
    "    elif a==2:\n",
    "        print(\"*  *  * *      \")\n",
    "    elif a==3:\n",
    "        print(\"*   *    *     \")\n",
    "    elif a==4:\n",
    "        print(\"    *    *     \")\n",
    "    elif a==5:\n",
    "        print(\"    *    *     \")\n",
    "    a=a+1"
   ]
  },
  {
   "cell_type": "code",
   "execution_count": 15,
   "id": "38dced7c",
   "metadata": {},
   "outputs": [
    {
     "name": "stdout",
     "output_type": "stream",
     "text": [
      "   *  *   *  \n",
      "*            *\n",
      "*            *\n",
      "*            *\n",
      "   *  *   *  \n"
     ]
    }
   ],
   "source": [
    "a=1\n",
    "while a<=5:\n",
    "    if a==1:\n",
    "        print(\"   *  *   *  \")\n",
    "    elif a==2:\n",
    "        print(\"*            *\")\n",
    "    elif a==3:\n",
    "        print(\"*            *\")\n",
    "    elif a==4:\n",
    "        print(\"*            *\")\n",
    "    elif a==5:\n",
    "        print(\"   *  *   *  \")\n",
    "    a=a+1 "
   ]
  },
  {
   "cell_type": "code",
   "execution_count": 16,
   "id": "6c2563ac",
   "metadata": {},
   "outputs": [
    {
     "name": "stdout",
     "output_type": "stream",
     "text": [
      "  *  *   *  \n",
      "*          *\n",
      "*  *  *   *  \n",
      "*             \n",
      "*             \n"
     ]
    }
   ],
   "source": [
    "a=1\n",
    "while a<=5:\n",
    "    if a==1:\n",
    "        print(\"  *  *   *  \")\n",
    "    elif a==2:\n",
    "        print(\"*          *\")\n",
    "    elif a==3:\n",
    "        print(\"*  *  *   *  \")\n",
    "    elif a==4:\n",
    "        print(\"*             \")\n",
    "    elif a==5:\n",
    "        print(\"*             \")\n",
    "    a=a+1 "
   ]
  },
  {
   "cell_type": "code",
   "execution_count": 17,
   "id": "c79e2e34",
   "metadata": {},
   "outputs": [
    {
     "name": "stdout",
     "output_type": "stream",
     "text": [
      "  *  *  *  \n",
      "*          *\n",
      "   *  *   *      *\n",
      "           *    *         \n",
      "             *             \n"
     ]
    }
   ],
   "source": [
    "a=1\n",
    "while a<=5:\n",
    "    if a==1:\n",
    "        print(\"  *  *  *  \")\n",
    "    elif a==2:\n",
    "        print(\"*          *\")\n",
    "    elif a==3:\n",
    "        print(\"   *  *   *      *\")\n",
    "    elif a==4:\n",
    "        print(\"           *    *         \")\n",
    "    elif a==5:\n",
    "        print(\"             *             \")\n",
    "    a=a+1 "
   ]
  },
  {
   "cell_type": "code",
   "execution_count": 18,
   "id": "d648aa78",
   "metadata": {},
   "outputs": [
    {
     "name": "stdout",
     "output_type": "stream",
     "text": [
      "*           *    \n",
      " *         * \n",
      "   *     *    \n",
      "      *        \n",
      "   *     *    \n",
      "      *       \n"
     ]
    }
   ],
   "source": [
    "a=1\n",
    "while a<=6:\n",
    "    if a==1:\n",
    "        print(\"*           *    \")\n",
    "    elif a==2:\n",
    "        print(\" *         * \")\n",
    "    elif a==3:\n",
    "        print(\"   *     *    \")\n",
    "    elif a==4:\n",
    "        print(\"      *        \")\n",
    "    elif a==5:\n",
    "        print(\"   *     *    \")\n",
    "    elif a==6:\n",
    "        print(\"      *       \")\n",
    "    a=a+1 "
   ]
  },
  {
   "cell_type": "code",
   "execution_count": 19,
   "id": "112e7ffe",
   "metadata": {},
   "outputs": [
    {
     "name": "stdout",
     "output_type": "stream",
     "text": [
      "  *  *   *  *  \n",
      "*               \n",
      "*  *  *   *   * \n",
      "              * \n",
      "*  *  *   *    \n"
     ]
    }
   ],
   "source": [
    "a=1\n",
    "while a<=5:\n",
    "    if a==1:\n",
    "        print(\"  *  *   *  *  \")\n",
    "    elif a==2:\n",
    "        print(\"*               \")\n",
    "    elif a==3:\n",
    "        print(\"*  *  *   *   * \")\n",
    "    elif a==4:\n",
    "        print(\"              * \")\n",
    "    elif a==5:\n",
    "        print(\"*  *  *   *    \")\n",
    "    a=a+1 "
   ]
  },
  {
   "cell_type": "code",
   "execution_count": 20,
   "id": "e27897cd",
   "metadata": {},
   "outputs": [
    {
     "name": "stdout",
     "output_type": "stream",
     "text": [
      "  * \n",
      "  *       \n",
      "* * * * * \n",
      "  *       \n",
      "  * * * *      \n"
     ]
    }
   ],
   "source": [
    "a=1\n",
    "while a<=5:\n",
    "    if a==1:\n",
    "        print(\"  * \")\n",
    "    elif a==2:\n",
    "        print(\"  *       \")\n",
    "    elif a==3:\n",
    "        print(\"* * * * * \")\n",
    "    elif a==4:\n",
    "        print(\"  *       \")\n",
    "    elif a==5:\n",
    "        print(\"  * * * *      \")\n",
    "    a=a+1"
   ]
  },
  {
   "cell_type": "code",
   "execution_count": 21,
   "id": "6f9585d6",
   "metadata": {},
   "outputs": [
    {
     "name": "stdout",
     "output_type": "stream",
     "text": [
      "*            *\n",
      "*            *\n",
      "*            *\n",
      "*            *\n",
      "   *  *   *    *\n",
      "                  *\n"
     ]
    }
   ],
   "source": [
    "a=1\n",
    "while a<=6:\n",
    "    if a==1:\n",
    "        print(\"*            *\")\n",
    "    elif a==2:\n",
    "        print(\"*            *\")\n",
    "    elif a==3:\n",
    "        print(\"*            *\")\n",
    "    elif a==4:\n",
    "        print(\"*            *\")\n",
    "    elif a==5:\n",
    "        print(\"   *  *   *    *\")\n",
    "    elif a==6:\n",
    "        print(\"                  *\")\n",
    "    a=a+1 "
   ]
  },
  {
   "cell_type": "code",
   "execution_count": 22,
   "id": "020b6d99",
   "metadata": {},
   "outputs": [
    {
     "name": "stdout",
     "output_type": "stream",
     "text": [
      "   *        *   \n",
      "    *      *    \n",
      "     *    *     \n",
      "      *  *      \n",
      "        *       \n"
     ]
    }
   ],
   "source": [
    "a=1\n",
    "while a<=5:\n",
    "    if a==1:\n",
    "        print(\"   *        *   \")\n",
    "    elif a==2:\n",
    "        print(\"    *      *    \")\n",
    "    elif a==3: \n",
    "        print(\"     *    *     \")\n",
    "    elif a==4:\n",
    "        print(\"      *  *      \")\n",
    "    elif a==5:\n",
    "        print(\"        *       \")\n",
    "    a=a+1"
   ]
  },
  {
   "cell_type": "code",
   "execution_count": 23,
   "id": "5e713810",
   "metadata": {},
   "outputs": [
    {
     "name": "stdout",
     "output_type": "stream",
     "text": [
      "*           *\n",
      "*           *\n",
      "*     *     *\n",
      "*   *    *  *\n",
      "*           *\n"
     ]
    }
   ],
   "source": [
    "a=1\n",
    "while a<=5:\n",
    "    if a==1:\n",
    "        print(\"*           *\")\n",
    "    elif a==2:\n",
    "        print(\"*           *\")\n",
    "    elif a==3:\n",
    "        print(\"*     *     *\")\n",
    "    elif a==4:\n",
    "        print(\"*   *    *  *\")\n",
    "    elif a==5:\n",
    "        print(\"*           *\")\n",
    "    a=a+1 "
   ]
  },
  {
   "cell_type": "code",
   "execution_count": 24,
   "id": "eba35477",
   "metadata": {},
   "outputs": [
    {
     "name": "stdout",
     "output_type": "stream",
     "text": [
      "  * * *      * * * \n",
      "         **         \n",
      "         ** \n",
      "         **         \n",
      "  * * *      * * * \n"
     ]
    }
   ],
   "source": [
    "a=1\n",
    "while a<=5:\n",
    "    if a==1:\n",
    "        print(\"  * * *      * * * \")\n",
    "    elif a==2:\n",
    "        print(\"         **         \")\n",
    "    elif a==3:\n",
    "        print(\"         ** \")\n",
    "    elif a==4:\n",
    "        print(\"         **         \")\n",
    "    elif a==5:\n",
    "        print(\"  * * *      * * * \")\n",
    "    a=a+1"
   ]
  },
  {
   "cell_type": "code",
   "execution_count": 25,
   "id": "906969c7",
   "metadata": {},
   "outputs": [
    {
     "name": "stdout",
     "output_type": "stream",
     "text": [
      "*          *\n",
      "*          *\n",
      "  *  *  *  *   \n",
      "           *\n",
      "           *    \n",
      " *  *  *  *        \n"
     ]
    }
   ],
   "source": [
    "a=1\n",
    "while a<=6:\n",
    "    if a==1:\n",
    "        print(\"*          *\")\n",
    "    elif a==2:\n",
    "        print(\"*          *\")\n",
    "    elif a==3:\n",
    "        print(\"  *  *  *  *   \")\n",
    "    elif a==4:\n",
    "        print(\"           *\")\n",
    "    elif a==5:\n",
    "        print(\"           *    \")\n",
    "    elif a==6:\n",
    "        print(\" *  *  *  *        \")\n",
    "    a=a+1 "
   ]
  },
  {
   "cell_type": "code",
   "execution_count": 26,
   "id": "21d8663c",
   "metadata": {},
   "outputs": [
    {
     "name": "stdout",
     "output_type": "stream",
     "text": [
      "  * * * *  \n",
      "       *    \n",
      "      *        \n",
      "    *          \n",
      "  * * * * \n"
     ]
    }
   ],
   "source": [
    "a=1\n",
    "while a<=5:\n",
    "    if a==1:\n",
    "        print(\"  * * * *  \")\n",
    "    elif a==2:\n",
    "        print(\"       *    \")\n",
    "    elif a==3:\n",
    "        print(\"      *        \")\n",
    "    elif a==4:\n",
    "        print(\"    *          \")\n",
    "    elif a==5:\n",
    "        print(\"  * * * * \")\n",
    "    a=a+1 "
   ]
  },
  {
   "cell_type": "code",
   "execution_count": null,
   "id": "c597b06f",
   "metadata": {},
   "outputs": [],
   "source": []
  }
 ],
 "metadata": {
  "kernelspec": {
   "display_name": "Python 3 (ipykernel)",
   "language": "python",
   "name": "python3"
  },
  "language_info": {
   "codemirror_mode": {
    "name": "ipython",
    "version": 3
   },
   "file_extension": ".py",
   "mimetype": "text/x-python",
   "name": "python",
   "nbconvert_exporter": "python",
   "pygments_lexer": "ipython3",
   "version": "3.9.13"
  }
 },
 "nbformat": 4,
 "nbformat_minor": 5
}
